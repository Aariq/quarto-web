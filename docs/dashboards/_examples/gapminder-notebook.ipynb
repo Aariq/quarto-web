{
 "cells": [
  {
   "cell_type": "raw",
   "metadata": {},
   "source": [
    "---\n",
    "title: \"Development Indicators by Continent\"\n",
    "author: \"Gapminder Analytics Group\"\n",
    "format: dashboard\n",
    "---"
   ]
  },
  {
   "cell_type": "code",
   "execution_count": null,
   "metadata": {},
   "outputs": [],
   "source": [
    "import plotly.express as px\n",
    "df = px.data.gapminder()"
   ]
  },
  {
   "cell_type": "markdown",
   "metadata": {},
   "source": [
    "## Row {height=60%}"
   ]
  },
  {
   "cell_type": "code",
   "execution_count": null,
   "metadata": {
    "title": "GDP and Life Expectancy"
   },
   "outputs": [],
   "source": [
    "#| title: GDP and Life Expectancy \n",
    "px.scatter(\n",
    "  df, x=\"gdpPercap\", y=\"lifeExp\", \n",
    "  animation_frame=\"year\", animation_group=\"country\",\n",
    "  size=\"pop\", color=\"continent\", hover_name=\"country\", \n",
    "  facet_col=\"continent\", log_x=True, size_max=45, \n",
    "  range_x=[100,100000], range_y=[25,90]\n",
    ")"
   ]
  },
  {
   "cell_type": "markdown",
   "metadata": {},
   "source": [
    "## Row (height=40%}"
   ]
  },
  {
   "cell_type": "code",
   "execution_count": null,
   "metadata": {
    "title": "Population"
   },
   "outputs": [],
   "source": [
    "#| title: Population\n",
    "px.area(df, x=\"year\", y=\"pop\", color=\"continent\", line_group=\"country\")"
   ]
  },
  {
   "cell_type": "code",
   "execution_count": null,
   "metadata": {
    "title": "Life Expectancy"
   },
   "outputs": [],
   "source": [
    "#| title: Life Expectancy\n",
    "px.line(df, x=\"year\", y=\"lifeExp\", color=\"continent\", line_group=\"country\")"
   ]
  },
  {
   "cell_type": "code",
   "execution_count": null,
   "metadata": {},
   "outputs": [],
   "source": []
  }
 ],
 "metadata": {
  "kernelspec": {
   "display_name": "Python 3 (ipykernel)",
   "language": "python",
   "name": "python3"
  },
  "language_info": {
   "codemirror_mode": {
    "name": "ipython",
    "version": 3
   },
   "file_extension": ".py",
   "mimetype": "text/x-python",
   "name": "python",
   "nbconvert_exporter": "python",
   "pygments_lexer": "ipython3",
   "version": "3.10.10"
  }
 },
 "nbformat": 4,
 "nbformat_minor": 4
}
